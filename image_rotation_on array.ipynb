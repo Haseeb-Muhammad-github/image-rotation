{
 "cells": [
  {
   "cell_type": "code",
   "execution_count": 5,
   "id": "f358c7a1-3ba7-43d1-a368-a22949ad13ef",
   "metadata": {},
   "outputs": [
    {
     "name": "stdout",
     "output_type": "stream",
     "text": [
      "[[1 4 7]\n",
      " [2 5 8]\n",
      " [3 6 9]]\n",
      "[[7 4 1]\n",
      " [8 5 2]\n",
      " [9 6 3]]\n"
     ]
    }
   ],
   "source": [
    "import numpy as np\n",
    "image=np.array([[1,2,3],\n",
    "               [4,5,6],\n",
    "                [7,8,9]])\n",
    "image=np.transpose(image)\n",
    "print(image)\n",
    "\n",
    "image[:, [0,2]]=image[:,[2,0]]\n",
    "print(image)"
   ]
  },
  {
   "cell_type": "code",
   "execution_count": null,
   "id": "327c40b6-aabd-469e-a97c-504f61a0e56f",
   "metadata": {},
   "outputs": [],
   "source": []
  }
 ],
 "metadata": {
  "kernelspec": {
   "display_name": "Python 3 (ipykernel)",
   "language": "python",
   "name": "python3"
  },
  "language_info": {
   "codemirror_mode": {
    "name": "ipython",
    "version": 3
   },
   "file_extension": ".py",
   "mimetype": "text/x-python",
   "name": "python",
   "nbconvert_exporter": "python",
   "pygments_lexer": "ipython3",
   "version": "3.10.12"
  }
 },
 "nbformat": 4,
 "nbformat_minor": 5
}
